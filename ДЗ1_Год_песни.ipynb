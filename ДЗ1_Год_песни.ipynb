{
  "cells": [
    {
      "cell_type": "markdown",
      "metadata": {
        "id": "jgD5_FN-XvJC"
      },
      "source": [
        "# *Задание -1. Импорт данных*\n"
      ]
    },
    {
      "cell_type": "code",
      "execution_count": 1,
      "metadata": {
        "id": "V6K5FbKnI0Dx"
      },
      "outputs": [],
      "source": [
        "import torch\n",
        "from torch import nn\n",
        "import pandas as pd\n",
        "import numpy as np\n",
        "import random\n",
        "import matplotlib.pyplot as plt"
      ]
    },
    {
      "cell_type": "code",
      "source": [
        "!wget -O data.txt.zip https://archive.ics.uci.edu/ml/machine-learning-databases/00203/YearPredictionMSD.txt.zip"
      ],
      "metadata": {
        "colab": {
          "base_uri": "https://localhost:8080/"
        },
        "id": "Xy67rdpnvmfy",
        "outputId": "f1cafa58-93d3-4af1-a0ba-cc0203d25a47"
      },
      "execution_count": 2,
      "outputs": [
        {
          "output_type": "stream",
          "name": "stdout",
          "text": [
            "--2022-10-09 19:26:36--  https://archive.ics.uci.edu/ml/machine-learning-databases/00203/YearPredictionMSD.txt.zip\n",
            "Resolving archive.ics.uci.edu (archive.ics.uci.edu)... 128.195.10.252\n",
            "Connecting to archive.ics.uci.edu (archive.ics.uci.edu)|128.195.10.252|:443... connected.\n",
            "HTTP request sent, awaiting response... 200 OK\n",
            "Length: 211011981 (201M) [application/x-httpd-php]\n",
            "Saving to: ‘data.txt.zip’\n",
            "\n",
            "data.txt.zip        100%[===================>] 201.24M  16.2MB/s    in 13s     \n",
            "\n",
            "2022-10-09 19:26:51 (15.0 MB/s) - ‘data.txt.zip’ saved [211011981/211011981]\n",
            "\n"
          ]
        }
      ]
    },
    {
      "cell_type": "code",
      "execution_count": 3,
      "metadata": {
        "colab": {
          "base_uri": "https://localhost:8080/",
          "height": 299
        },
        "id": "rbXmkIPvKO-t",
        "outputId": "f1c60fa8-d8f7-485c-df6c-d4ff9a4df9c6"
      },
      "outputs": [
        {
          "output_type": "execute_result",
          "data": {
            "text/plain": [
              "     0         1         2         3         4         5         6         7   \\\n",
              "0  2001  49.94357  21.47114  73.07750   8.74861 -17.40628 -13.09905 -25.01202   \n",
              "1  2001  48.73215  18.42930  70.32679  12.94636 -10.32437 -24.83777   8.76630   \n",
              "2  2001  50.95714  31.85602  55.81851  13.41693  -6.57898 -18.54940  -3.27872   \n",
              "3  2001  48.24750  -1.89837  36.29772   2.58776   0.97170 -26.21683   5.05097   \n",
              "4  2001  50.97020  42.20998  67.09964   8.46791 -15.85279 -16.81409 -12.48207   \n",
              "\n",
              "         8         9   ...        81         82        83        84        85  \\\n",
              "0 -12.23257   7.83089  ...  13.01620  -54.40548  58.99367  15.37344   1.11144   \n",
              "1  -0.92019  18.76548  ...   5.66812  -19.68073  33.04964  42.87836  -9.90378   \n",
              "2  -2.35035  16.07017  ...   3.03800   26.05866 -50.92779  10.93792  -0.07568   \n",
              "3 -10.34124   3.55005  ...  34.57337 -171.70734 -16.96705 -46.67617 -12.51516   \n",
              "4  -9.37636  12.63699  ...   9.92661  -55.95724  64.92712 -17.72522  -1.49237   \n",
              "\n",
              "         86         87        88         89        90  \n",
              "0 -23.08793   68.40795  -1.82223  -27.46348   2.26327  \n",
              "1 -32.22788   70.49388  12.04941   58.43453  26.92061  \n",
              "2  43.20130 -115.00698  -0.05859   39.67068  -0.66345  \n",
              "3  82.58061  -72.08993   9.90558  199.62971  18.85382  \n",
              "4  -7.50035   51.76631   7.88713   55.66926  28.74903  \n",
              "\n",
              "[5 rows x 91 columns]"
            ],
            "text/html": [
              "\n",
              "  <div id=\"df-04d547da-8278-4374-870c-29c0e7932ea2\">\n",
              "    <div class=\"colab-df-container\">\n",
              "      <div>\n",
              "<style scoped>\n",
              "    .dataframe tbody tr th:only-of-type {\n",
              "        vertical-align: middle;\n",
              "    }\n",
              "\n",
              "    .dataframe tbody tr th {\n",
              "        vertical-align: top;\n",
              "    }\n",
              "\n",
              "    .dataframe thead th {\n",
              "        text-align: right;\n",
              "    }\n",
              "</style>\n",
              "<table border=\"1\" class=\"dataframe\">\n",
              "  <thead>\n",
              "    <tr style=\"text-align: right;\">\n",
              "      <th></th>\n",
              "      <th>0</th>\n",
              "      <th>1</th>\n",
              "      <th>2</th>\n",
              "      <th>3</th>\n",
              "      <th>4</th>\n",
              "      <th>5</th>\n",
              "      <th>6</th>\n",
              "      <th>7</th>\n",
              "      <th>8</th>\n",
              "      <th>9</th>\n",
              "      <th>...</th>\n",
              "      <th>81</th>\n",
              "      <th>82</th>\n",
              "      <th>83</th>\n",
              "      <th>84</th>\n",
              "      <th>85</th>\n",
              "      <th>86</th>\n",
              "      <th>87</th>\n",
              "      <th>88</th>\n",
              "      <th>89</th>\n",
              "      <th>90</th>\n",
              "    </tr>\n",
              "  </thead>\n",
              "  <tbody>\n",
              "    <tr>\n",
              "      <th>0</th>\n",
              "      <td>2001</td>\n",
              "      <td>49.94357</td>\n",
              "      <td>21.47114</td>\n",
              "      <td>73.07750</td>\n",
              "      <td>8.74861</td>\n",
              "      <td>-17.40628</td>\n",
              "      <td>-13.09905</td>\n",
              "      <td>-25.01202</td>\n",
              "      <td>-12.23257</td>\n",
              "      <td>7.83089</td>\n",
              "      <td>...</td>\n",
              "      <td>13.01620</td>\n",
              "      <td>-54.40548</td>\n",
              "      <td>58.99367</td>\n",
              "      <td>15.37344</td>\n",
              "      <td>1.11144</td>\n",
              "      <td>-23.08793</td>\n",
              "      <td>68.40795</td>\n",
              "      <td>-1.82223</td>\n",
              "      <td>-27.46348</td>\n",
              "      <td>2.26327</td>\n",
              "    </tr>\n",
              "    <tr>\n",
              "      <th>1</th>\n",
              "      <td>2001</td>\n",
              "      <td>48.73215</td>\n",
              "      <td>18.42930</td>\n",
              "      <td>70.32679</td>\n",
              "      <td>12.94636</td>\n",
              "      <td>-10.32437</td>\n",
              "      <td>-24.83777</td>\n",
              "      <td>8.76630</td>\n",
              "      <td>-0.92019</td>\n",
              "      <td>18.76548</td>\n",
              "      <td>...</td>\n",
              "      <td>5.66812</td>\n",
              "      <td>-19.68073</td>\n",
              "      <td>33.04964</td>\n",
              "      <td>42.87836</td>\n",
              "      <td>-9.90378</td>\n",
              "      <td>-32.22788</td>\n",
              "      <td>70.49388</td>\n",
              "      <td>12.04941</td>\n",
              "      <td>58.43453</td>\n",
              "      <td>26.92061</td>\n",
              "    </tr>\n",
              "    <tr>\n",
              "      <th>2</th>\n",
              "      <td>2001</td>\n",
              "      <td>50.95714</td>\n",
              "      <td>31.85602</td>\n",
              "      <td>55.81851</td>\n",
              "      <td>13.41693</td>\n",
              "      <td>-6.57898</td>\n",
              "      <td>-18.54940</td>\n",
              "      <td>-3.27872</td>\n",
              "      <td>-2.35035</td>\n",
              "      <td>16.07017</td>\n",
              "      <td>...</td>\n",
              "      <td>3.03800</td>\n",
              "      <td>26.05866</td>\n",
              "      <td>-50.92779</td>\n",
              "      <td>10.93792</td>\n",
              "      <td>-0.07568</td>\n",
              "      <td>43.20130</td>\n",
              "      <td>-115.00698</td>\n",
              "      <td>-0.05859</td>\n",
              "      <td>39.67068</td>\n",
              "      <td>-0.66345</td>\n",
              "    </tr>\n",
              "    <tr>\n",
              "      <th>3</th>\n",
              "      <td>2001</td>\n",
              "      <td>48.24750</td>\n",
              "      <td>-1.89837</td>\n",
              "      <td>36.29772</td>\n",
              "      <td>2.58776</td>\n",
              "      <td>0.97170</td>\n",
              "      <td>-26.21683</td>\n",
              "      <td>5.05097</td>\n",
              "      <td>-10.34124</td>\n",
              "      <td>3.55005</td>\n",
              "      <td>...</td>\n",
              "      <td>34.57337</td>\n",
              "      <td>-171.70734</td>\n",
              "      <td>-16.96705</td>\n",
              "      <td>-46.67617</td>\n",
              "      <td>-12.51516</td>\n",
              "      <td>82.58061</td>\n",
              "      <td>-72.08993</td>\n",
              "      <td>9.90558</td>\n",
              "      <td>199.62971</td>\n",
              "      <td>18.85382</td>\n",
              "    </tr>\n",
              "    <tr>\n",
              "      <th>4</th>\n",
              "      <td>2001</td>\n",
              "      <td>50.97020</td>\n",
              "      <td>42.20998</td>\n",
              "      <td>67.09964</td>\n",
              "      <td>8.46791</td>\n",
              "      <td>-15.85279</td>\n",
              "      <td>-16.81409</td>\n",
              "      <td>-12.48207</td>\n",
              "      <td>-9.37636</td>\n",
              "      <td>12.63699</td>\n",
              "      <td>...</td>\n",
              "      <td>9.92661</td>\n",
              "      <td>-55.95724</td>\n",
              "      <td>64.92712</td>\n",
              "      <td>-17.72522</td>\n",
              "      <td>-1.49237</td>\n",
              "      <td>-7.50035</td>\n",
              "      <td>51.76631</td>\n",
              "      <td>7.88713</td>\n",
              "      <td>55.66926</td>\n",
              "      <td>28.74903</td>\n",
              "    </tr>\n",
              "  </tbody>\n",
              "</table>\n",
              "<p>5 rows × 91 columns</p>\n",
              "</div>\n",
              "      <button class=\"colab-df-convert\" onclick=\"convertToInteractive('df-04d547da-8278-4374-870c-29c0e7932ea2')\"\n",
              "              title=\"Convert this dataframe to an interactive table.\"\n",
              "              style=\"display:none;\">\n",
              "        \n",
              "  <svg xmlns=\"http://www.w3.org/2000/svg\" height=\"24px\"viewBox=\"0 0 24 24\"\n",
              "       width=\"24px\">\n",
              "    <path d=\"M0 0h24v24H0V0z\" fill=\"none\"/>\n",
              "    <path d=\"M18.56 5.44l.94 2.06.94-2.06 2.06-.94-2.06-.94-.94-2.06-.94 2.06-2.06.94zm-11 1L8.5 8.5l.94-2.06 2.06-.94-2.06-.94L8.5 2.5l-.94 2.06-2.06.94zm10 10l.94 2.06.94-2.06 2.06-.94-2.06-.94-.94-2.06-.94 2.06-2.06.94z\"/><path d=\"M17.41 7.96l-1.37-1.37c-.4-.4-.92-.59-1.43-.59-.52 0-1.04.2-1.43.59L10.3 9.45l-7.72 7.72c-.78.78-.78 2.05 0 2.83L4 21.41c.39.39.9.59 1.41.59.51 0 1.02-.2 1.41-.59l7.78-7.78 2.81-2.81c.8-.78.8-2.07 0-2.86zM5.41 20L4 18.59l7.72-7.72 1.47 1.35L5.41 20z\"/>\n",
              "  </svg>\n",
              "      </button>\n",
              "      \n",
              "  <style>\n",
              "    .colab-df-container {\n",
              "      display:flex;\n",
              "      flex-wrap:wrap;\n",
              "      gap: 12px;\n",
              "    }\n",
              "\n",
              "    .colab-df-convert {\n",
              "      background-color: #E8F0FE;\n",
              "      border: none;\n",
              "      border-radius: 50%;\n",
              "      cursor: pointer;\n",
              "      display: none;\n",
              "      fill: #1967D2;\n",
              "      height: 32px;\n",
              "      padding: 0 0 0 0;\n",
              "      width: 32px;\n",
              "    }\n",
              "\n",
              "    .colab-df-convert:hover {\n",
              "      background-color: #E2EBFA;\n",
              "      box-shadow: 0px 1px 2px rgba(60, 64, 67, 0.3), 0px 1px 3px 1px rgba(60, 64, 67, 0.15);\n",
              "      fill: #174EA6;\n",
              "    }\n",
              "\n",
              "    [theme=dark] .colab-df-convert {\n",
              "      background-color: #3B4455;\n",
              "      fill: #D2E3FC;\n",
              "    }\n",
              "\n",
              "    [theme=dark] .colab-df-convert:hover {\n",
              "      background-color: #434B5C;\n",
              "      box-shadow: 0px 1px 3px 1px rgba(0, 0, 0, 0.15);\n",
              "      filter: drop-shadow(0px 1px 2px rgba(0, 0, 0, 0.3));\n",
              "      fill: #FFFFFF;\n",
              "    }\n",
              "  </style>\n",
              "\n",
              "      <script>\n",
              "        const buttonEl =\n",
              "          document.querySelector('#df-04d547da-8278-4374-870c-29c0e7932ea2 button.colab-df-convert');\n",
              "        buttonEl.style.display =\n",
              "          google.colab.kernel.accessAllowed ? 'block' : 'none';\n",
              "\n",
              "        async function convertToInteractive(key) {\n",
              "          const element = document.querySelector('#df-04d547da-8278-4374-870c-29c0e7932ea2');\n",
              "          const dataTable =\n",
              "            await google.colab.kernel.invokeFunction('convertToInteractive',\n",
              "                                                     [key], {});\n",
              "          if (!dataTable) return;\n",
              "\n",
              "          const docLinkHtml = 'Like what you see? Visit the ' +\n",
              "            '<a target=\"_blank\" href=https://colab.research.google.com/notebooks/data_table.ipynb>data table notebook</a>'\n",
              "            + ' to learn more about interactive tables.';\n",
              "          element.innerHTML = '';\n",
              "          dataTable['output_type'] = 'display_data';\n",
              "          await google.colab.output.renderOutput(dataTable, element);\n",
              "          const docLink = document.createElement('div');\n",
              "          docLink.innerHTML = docLinkHtml;\n",
              "          element.appendChild(docLink);\n",
              "        }\n",
              "      </script>\n",
              "    </div>\n",
              "  </div>\n",
              "  "
            ]
          },
          "metadata": {},
          "execution_count": 3
        }
      ],
      "source": [
        "df = pd.read_csv('data.txt.zip', header=None)\n",
        "df.head()"
      ]
    },
    {
      "cell_type": "code",
      "execution_count": 4,
      "metadata": {
        "id": "jrsunJfmKSHg"
      },
      "outputs": [],
      "source": [
        "X = df.iloc[:, 1:].values\n",
        "y = df.iloc[:, 0].values\n",
        "\n",
        "train_size = 463715\n",
        "y_train = y[:train_size].reshape(-1, 1)\n",
        "y_test = y[train_size:].reshape(-1, 1)\n",
        "X_train = X[:train_size, :]\n",
        "X_test = X[train_size:, :]"
      ]
    },
    {
      "cell_type": "markdown",
      "source": [
        "# **Задание 0. Предварительный анализ**"
      ],
      "metadata": {
        "id": "x6mB38VvsSLa"
      }
    },
    {
      "cell_type": "code",
      "source": [
        "# Посмотрим распределение песен по годам\n",
        "nsongs = {}\n",
        "for i in range(1922,2012):\n",
        "    nsongs[i] = len(y[y==i])\n",
        "\n",
        "years = range(1922,2012)\n",
        "values = [nsongs[z] for z in years]\n",
        "plt.bar(years, values, align='center')\n",
        "plt.xlabel(\"Year\")\n",
        "plt.ylabel(\"Number of songs\")"
      ],
      "metadata": {
        "colab": {
          "base_uri": "https://localhost:8080/",
          "height": 296
        },
        "id": "D1kfFNOUsK2i",
        "outputId": "ff74f44e-ce2d-466b-fe9e-7ecb86f705f1"
      },
      "execution_count": null,
      "outputs": [
        {
          "output_type": "execute_result",
          "data": {
            "text/plain": [
              "Text(0, 0.5, 'Number of songs')"
            ]
          },
          "metadata": {},
          "execution_count": 134
        },
        {
          "output_type": "display_data",
          "data": {
            "text/plain": [
              "<Figure size 432x288 with 1 Axes>"
            ],
            "image/png": "[encoded data removed]"
          },
          "metadata": {
            "needs_background": "light"
          }
        }
      ]
    },
    {
      "cell_type": "markdown",
      "source": [
        "Как и следовало предположить, большая часть песен выборки вышла в конце 20 века или позднее. При этом разброс значений достаточно велик: около 90 лет. Имеет смысл регуляризовать года."
      ],
      "metadata": {
        "id": "QnqYfXp_zYYl"
      }
    },
    {
      "cell_type": "code",
      "source": [
        "# посмотрим распределение значений признаков в подвыборке песен\n",
        "plt.figure(figsize=(12,6))\n",
        "for i in range(0, 10000):\n",
        "    plt.plot(X[i], label='song_' + str(i))\n",
        "    \n",
        "plt.xlabel(\"Feature\")\n",
        "plt.ylabel(\"Value\")"
      ],
      "metadata": {
        "colab": {
          "base_uri": "https://localhost:8080/",
          "height": 405
        },
        "id": "01CsPNAPtNeP",
        "outputId": "e1cba599-541b-43ef-8d72-d39da9c817b4"
      },
      "execution_count": null,
      "outputs": [
        {
          "output_type": "execute_result",
          "data": {
            "text/plain": [
              "Text(0, 0.5, 'Value')"
            ]
          },
          "metadata": {},
          "execution_count": 5
        },
        {
          "output_type": "display_data",
          "data": {
            "text/plain": [
              "<Figure size 864x432 with 1 Axes>"
            ],
            "image/png": "[encoded data removed]"
          },
          "metadata": {
            "needs_background": "light"
          }
        }
      ]
    },
    {
      "cell_type": "markdown",
      "source": [
        "По этой подвыборке из 10 тысяч песен видно, что значения признаковне имеют особых строгих закономерносей, однако имеют чудовищный разброс - не помешает регуляризация."
      ],
      "metadata": {
        "id": "bha3aJFRzxij"
      }
    },
    {
      "cell_type": "code",
      "source": [
        "# Приведем признаки и тренировочный таргет к их Z-значениям\n",
        "from sklearn.preprocessing import StandardScaler\n",
        "\n",
        "scaler = StandardScaler()\n",
        "scaler2 = StandardScaler()\n",
        "scaler.fit(X_train)\n",
        "\n",
        "X_train = scaler.fit_transform(X_train)\n",
        "X_test = scaler.transform(X_test)\n",
        "\n",
        "mean = np.mean(y_train) # эти две переменные рассчитываются для того, чтобы\n",
        "std = np.std(y_train) # на тесте привести предикт к изначальному виду\n",
        "y_train = scaler2.fit_transform(y_train)"
      ],
      "metadata": {
        "id": "a1SapC5w0B-e"
      },
      "execution_count": 5,
      "outputs": []
    },
    {
      "cell_type": "markdown",
      "metadata": {
        "id": "gPuigGY-XNiU"
      },
      "source": [
        "# **Задание 1. Создание бейзлайна**"
      ]
    },
    {
      "cell_type": "code",
      "execution_count": null,
      "metadata": {
        "id": "l-4dvYhCKZVI"
      },
      "outputs": [],
      "source": [
        "from sklearn.dummy import DummyRegressor\n",
        "from sklearn.linear_model import Ridge\n",
        "from sklearn.metrics import mean_squared_error"
      ]
    },
    {
      "cell_type": "code",
      "execution_count": null,
      "metadata": {
        "colab": {
          "base_uri": "https://localhost:8080/"
        },
        "id": "M8vWoUn7QJar",
        "outputId": "20950ad8-6d55-4608-d1ab-06e2eba89705"
      },
      "outputs": [
        {
          "output_type": "execute_result",
          "data": {
            "text/plain": [
              "10.85246390513634"
            ]
          },
          "metadata": {},
          "execution_count": 7
        }
      ],
      "source": [
        "dummy = DummyRegressor(strategy='mean')\n",
        "dummy.fit(X_train, y_train)\n",
        "\n",
        "def rmse(x):\n",
        "  return np.sqrt(mean_squared_error(x, y_test))\n",
        "\n",
        "rmse(dummy.predict(X_test))\n",
        "# Лучший константный прогноз у стратегии среднего"
      ]
    },
    {
      "cell_type": "code",
      "execution_count": null,
      "metadata": {
        "colab": {
          "base_uri": "https://localhost:8080/"
        },
        "id": "flZpLhSbRMlX",
        "outputId": "22aec647-de1d-4bba-b714-455b59c64c93"
      },
      "outputs": [
        {
          "output_type": "execute_result",
          "data": {
            "text/plain": [
              "{'alpha': 0.46}"
            ]
          },
          "metadata": {},
          "execution_count": 8
        }
      ],
      "source": [
        "from sklearn.model_selection import GridSearchCV\n",
        "\n",
        "grid_ridge = GridSearchCV(Ridge(), cv=5,\n",
        "                     param_grid={'alpha':np.arange(0.01, 0.5, 0.05)})\n",
        "grid_ridge.fit(X_train, y_train)\n",
        "grid_ridge.best_params_\n",
        "# лучший коэф. регуляризации"
      ]
    },
    {
      "cell_type": "code",
      "execution_count": null,
      "metadata": {
        "colab": {
          "base_uri": "https://localhost:8080/"
        },
        "id": "7uY4slxLT0Us",
        "outputId": "b7937d9c-79aa-4ca8-ba0c-41ab9dc0865a"
      },
      "outputs": [
        {
          "output_type": "execute_result",
          "data": {
            "text/plain": [
              "9.510160709275613"
            ]
          },
          "metadata": {},
          "execution_count": 9
        }
      ],
      "source": [
        "rmse(grid_ridge.predict(X_test))\n",
        "# лучший прогноp регуляризованной линейной регрессией"
      ]
    },
    {
      "cell_type": "markdown",
      "metadata": {
        "id": "X29yKtLWXjQr"
      },
      "source": [
        "# **Задание 2. Пишем, собственно, модель.**"
      ]
    },
    {
      "cell_type": "code",
      "execution_count": 6,
      "metadata": {
        "id": "rduGjg8_Z9iv"
      },
      "outputs": [],
      "source": [
        "import torch.nn as nn\n",
        "import torch\n",
        "import torch.nn.functional as F\n",
        "import torch.optim as optim\n",
        "import torchvision\n",
        "import torchvision.transforms as transforms\n",
        "import matplotlib.pyplot as plt\n",
        "import numpy as np\n",
        "import random\n",
        "import tqdm\n",
        "from IPython.display import clear_output"
      ]
    },
    {
      "cell_type": "code",
      "execution_count": 7,
      "metadata": {
        "colab": {
          "base_uri": "https://localhost:8080/"
        },
        "id": "aOpyPmaQZf7x",
        "outputId": "b2bd6253-c8e9-434a-8d19-34a6c377d71d"
      },
      "outputs": [
        {
          "output_type": "execute_result",
          "data": {
            "text/plain": [
              "device(type='cuda')"
            ]
          },
          "metadata": {},
          "execution_count": 7
        }
      ],
      "source": [
        "device = torch.device('cuda' if torch.cuda.is_available() else 'cpu') #\"cuda\" if torch.cuda.is_available() else \"cpu\"\n",
        "device"
      ]
    },
    {
      "cell_type": "code",
      "execution_count": 8,
      "metadata": {
        "id": "O93G_qIAXp1g"
      },
      "outputs": [],
      "source": [
        "def set_random_seed(seed):\n",
        "    torch.backends.cudnn.deterministic = True\n",
        "    torch.manual_seed(seed)\n",
        "    torch.cuda.manual_seed(seed)\n",
        "    np.random.seed(seed)\n",
        "    random.seed(seed)\n",
        "\n",
        "set_random_seed(1984)"
      ]
    },
    {
      "cell_type": "code",
      "execution_count": 9,
      "metadata": {
        "id": "ZcqBpVwtl1mW"
      },
      "outputs": [],
      "source": [
        "from torch.utils.data import TensorDataset"
      ]
    },
    {
      "cell_type": "markdown",
      "source": [
        "\n",
        "\n",
        "---\n",
        "\n",
        "\n",
        "Были перепробованы разные размеры батча, на ранних этапах я пользовался 8, 32, 64. Однако впоследствии было отдано предпочтение огромным батчам около 2048, так как на них, при использовании гпу, модель учиться в сотни раз быстрее, засчет того, что видеопамять (в которой содержиться реестр всех переменных модели, типы данных и сама модель) в тысячи раз быстрее оперативной и быстрее может передавать информацию по запросам на чип для расчетов. Также засчет архитектуры CUDA эффективно используются параллельные вычисления, но так как для них применяется широкий спект рандомных операций, то я очень часто в коде буду прибегать к использованию рандомсида 1984.\n",
        "\n",
        "\n",
        "---\n",
        "\n",
        "\n"
      ],
      "metadata": {
        "id": "AVACBrt26-4I"
      }
    },
    {
      "cell_type": "code",
      "execution_count": 10,
      "metadata": {
        "id": "6ub6WnZG3omr"
      },
      "outputs": [],
      "source": [
        "# Создание объединенных датасетов и лоадеров\n",
        "set_random_seed(1984)\n",
        "\n",
        "train_set = TensorDataset(torch.from_numpy(X_train).float(), \n",
        "                          torch.from_numpy(y_train).float())\n",
        "\n",
        "batch_size = 1900 # В действительности батчразмер не обязан быть степенью 2\n",
        "train_loader = torch.utils.data.DataLoader(\n",
        "    train_set, batch_size=batch_size, shuffle=True, \n",
        "    pin_memory=True, num_workers=2        \n",
        "    )\n",
        "\n",
        "test_set = TensorDataset(torch.from_numpy(X_test).float(), \n",
        "                         torch.from_numpy(y_test).float())\n",
        "\n",
        "test_loader = torch.utils.data.DataLoader(\n",
        "    test_set, batch_size=batch_size, shuffle=False,\n",
        "    pin_memory=True, num_workers=2\n",
        "    )"
      ]
    },
    {
      "cell_type": "markdown",
      "source": [
        "\n",
        "\n",
        "---\n",
        "\n",
        "Изначально я начал писать сетку с простого варианта, аналогичного самой первой модели на семинаре. Затем я понял, что нужно идти на усложнение и добавил слоев и нейронов. Тогда модель начала переобучаться и я применил сразу и батчнорм и дропауты, что заставило ее уже недообучаться. Впоследствии подобрал оптимальный вариант, во-первых, без нормировки нейронов (вероятно она ухудшает точность засчет того, что уже изначально все признаки отнормированы), во-вторых, с небольшим дропаутом, что \"убивает\" неважные связи и в-третьих, с лики-релу функцией активации, что позволяет задавать для некоторых значений признаков отрицательные \"веса\" в полносвязных слоях, если так можно выразится.\n",
        "\n",
        "\n",
        "---\n",
        "\n"
      ],
      "metadata": {
        "id": "Rm5dcv008Wou"
      }
    },
    {
      "cell_type": "code",
      "execution_count": 20,
      "metadata": {
        "id": "ORNpBJ-Pt7g5"
      },
      "outputs": [],
      "source": [
        "set_random_seed(1984)\n",
        "\n",
        "class SimpleRegression(nn.Module):\n",
        "  def __init__(self):\n",
        "       \n",
        "      super(SimpleRegression, self).__init__()\n",
        "\n",
        "      self.fc1 = nn.Linear(90, 250)\n",
        "      self.fc2 = nn.Linear(250, 300)\n",
        "      self.fc3 = nn.Linear(300, 120)\n",
        "      self.fc4 = nn.Linear(120, 40)\n",
        "      self.fcf = nn.Linear(40, 1)\n",
        "      \n",
        "      self.lrelu = nn.LeakyReLU()\n",
        "      self.drop = nn.Dropout(0.2)\n",
        "      \n",
        "  def forward(self, x):\n",
        "      x = self.drop(F.relu(self.fc1(x)))\n",
        "      x = self.drop(self.lrelu(self.fc2(x)))\n",
        "      x = self.drop(self.lrelu(self.fc3(x)))\n",
        "      x = self.drop(self.lrelu(self.fc4(x)))\n",
        "      x = self.lrelu(self.fcf(x))\n",
        "      return x\n",
        "\n",
        "model = SimpleRegression().to(device)"
      ]
    },
    {
      "cell_type": "markdown",
      "source": [
        "\n",
        "\n",
        "---\n",
        "По динамике ошибки на трейне была заметна тенденция на небольшое переобучение, а точнее, на последних эпохах ошибка начинала расти, что сигнализировало о том, что спуск \"вылетел\" из локального минимума. Для того, чтобы с этим бороться я решил изменять со временем learning rate. Методом многочисленных проб и ошибок я пришел к выводу, что его снижение в ответ на рост метрики ошибки не лучшая идея и лучше пользоваться расписанием (scheduler), засчет долгого подбора значений я подобрал, что лучше всего модель работает уменьшая лр в 2 раза каждые 3 эпохи. \n",
        "\n",
        "\n",
        "---\n",
        "\n"
      ],
      "metadata": {
        "id": "41M40RYc9RRZ"
      }
    },
    {
      "cell_type": "code",
      "execution_count": 12,
      "metadata": {
        "id": "awQQ7L5TA-Ql"
      },
      "outputs": [],
      "source": [
        "from torch.optim.lr_scheduler import StepLR\n",
        "# во время обучения я хочу снижать learning rate, чтобы не\n",
        "# пропустить локальный минимум в районе 8.6 - 8.9 по ошибке"
      ]
    },
    {
      "cell_type": "code",
      "execution_count": 13,
      "metadata": {
        "id": "k2OZ6kATGx72"
      },
      "outputs": [],
      "source": [
        "set_random_seed(1984)\n",
        "def train(model, criterion, optimizer,\n",
        "          train_loader, n_epochs=5\n",
        "          ):\n",
        "    loss_list = []\n",
        "    for epoch in range(n_epochs):\n",
        "      \n",
        "        model.train()\n",
        "\n",
        "        running_loss = 0.0 \n",
        "        batch_count = 0\n",
        "        \n",
        "        for samples, target in tqdm.tqdm(\n",
        "            train_loader, desc=f\"Training, epoch № {epoch+1}\", leave=False\n",
        "            ):\n",
        "            samples, target = samples.to(device), target.to(device)\n",
        "            \n",
        "            y_pred = model(samples)\n",
        "            loss = criterion(y_pred, target)\n",
        "            loss.backward()\n",
        "\n",
        "            # Данный метод расчета ошибки нужен для того, чтобы она посчиталась\n",
        "            # не в среднем по батчам, а в среднем по всей выборке  \n",
        "            running_loss += loss.item()*samples.size(0)\n",
        "            batch_count += samples.size(0)\n",
        "            # Также из-за большого батчсайза в конце выборки данных может быть\n",
        "            # недостаточно для формирование полного батча, будет сделан батч \n",
        "            # меньший и поэтому нужно размер каждого считать по отдельности\n",
        "            \n",
        "            optimizer.step()\n",
        "            optimizer.zero_grad()\n",
        "        \n",
        "        scheduler.step() # шаг расписания изменение learning_rate\n",
        "        ep_loss = np.sqrt(running_loss/batch_count)\n",
        "        loss_list.append(ep_loss)\n",
        "        \n",
        "        clear_output() # для более красивой отрисовки tqdm по эпохам\n",
        "        loss_plot(loss_list, n_epochs) \n",
        "        print('Loss: ', ep_loss)\n",
        "        \n",
        "    return loss_list"
      ]
    },
    {
      "cell_type": "code",
      "execution_count": 14,
      "metadata": {
        "id": "hJ58pmpykVN9"
      },
      "outputs": [],
      "source": [
        "set_random_seed(1984)\n",
        "def test(model, criterion, test_loader):\n",
        "     test_loss = 0.0\n",
        "     batch_count = 0\n",
        "     with torch.no_grad():\n",
        "            for samples, target in test_loader:\n",
        "\n",
        "                samples, target = samples.to(device), target.to(device)\n",
        "                \n",
        "                y_pred = model(samples)\n",
        "\n",
        "                # предикт при этом приводим к изначальному виду\n",
        "                loss = criterion(y_pred*std + mean, target)\n",
        "                \n",
        "                # аналогичный рассчет ошибки \n",
        "                test_loss += loss.item()*samples.size(0)\n",
        "                batch_count += samples.size(0)\n",
        "\n",
        "            print('Test loss:', np.sqrt(test_loss/batch_count))"
      ]
    },
    {
      "cell_type": "code",
      "source": [
        "# Функция для отрисовки графика ошибки на трейне\n",
        "def loss_plot(loss_list, epochs):\n",
        "    plt.figure(figsize=(12,6))\n",
        "    y = np.array(loss_list)\n",
        "    x = np.array(range(0, len(loss_list)))\n",
        "\n",
        "    plt.plot(x, y, label='Training loss', color='r')\n",
        "\n",
        "    plt.xlim(0, epochs)\n",
        "\n",
        "    plt.xlabel(\"Эпохи\", fontsize=10)\n",
        "    plt.ylabel(\"RMSE\", fontsize=10)\n",
        "      \n",
        "    plt.grid()\n",
        "    plt.legend()\n",
        "    plt.show()\n"
      ],
      "metadata": {
        "id": "L2Rw8f5VB4zU"
      },
      "execution_count": 15,
      "outputs": []
    },
    {
      "cell_type": "markdown",
      "source": [
        "\n",
        "\n",
        "---\n",
        "В качестве оптимизатора был выбран Адам, так как его много где рекомендуют в интернете, также его рекомендовали семинаристы и assистенты :). До этого разбирался в формулах (спасибо https://towardsdatascience.com/10-gradient-descent-optimisation-algorithms-86989510b5e9) и применял следующие оптимизаторы: RMSprop, Adamax, Nadam, Momentum. Также пробовал применить метод вообще не основанный на градиентном спуске, это был L-BFGS, основанный на ньютоновском способе аппроксимации функций через не только градиент, но еще и гессиан, этот способ оказался почти что также хорош, как Адам и лишь немного ему уступил.\n",
        "\n",
        "\n",
        "---\n",
        "\n",
        "\n"
      ],
      "metadata": {
        "id": "W5JSnpj5Aeag"
      }
    },
    {
      "cell_type": "code",
      "execution_count": 21,
      "metadata": {
        "scrolled": true,
        "colab": {
          "base_uri": "https://localhost:8080/",
          "height": 405
        },
        "id": "orp7fjFAvbeM",
        "outputId": "4e750ef5-c6f6-433a-b301-a6e938b28ed1"
      },
      "outputs": [
        {
          "output_type": "display_data",
          "data": {
            "text/plain": [
              "<Figure size 864x432 with 1 Axes>"
            ],
            "image/png": "[encoded data removed]"
          },
          "metadata": {
            "needs_background": "light"
          }
        },
        {
          "output_type": "stream",
          "name": "stdout",
          "text": [
            "Loss:  0.7777847471333088\n"
          ]
        }
      ],
      "source": [
        "# Train\n",
        "optimizer = optim.Adam(model.parameters(), lr=0.001)\n",
        "criterion = nn.MSELoss()\n",
        "nepochs = 30\n",
        "\n",
        "scheduler = StepLR(optimizer, step_size=3, gamma = 0.5)\n",
        "\n",
        "train_func = train(model, criterion, optimizer,\n",
        "                  train_loader, n_epochs=nepochs)"
      ]
    },
    {
      "cell_type": "code",
      "source": [
        "# Test \n",
        "set_random_seed(1984)\n",
        "criterion = nn.MSELoss()\n",
        "test(model, criterion, test_loader)"
      ],
      "metadata": {
        "colab": {
          "base_uri": "https://localhost:8080/"
        },
        "id": "pAGWoeUEaQ7P",
        "outputId": "c5e78006-29a7-486e-a7b7-7bebc62d635d"
      },
      "execution_count": 22,
      "outputs": [
        {
          "output_type": "stream",
          "name": "stdout",
          "text": [
            "Test loss: 8.829621421028941\n"
          ]
        }
      ]
    }
  ],
  "metadata": {
    "accelerator": "GPU",
    "colab": {
      "collapsed_sections": [
        "gPuigGY-XNiU"
      ],
      "provenance": []
    },
    "kernelspec": {
      "display_name": "Python 3 (ipykernel)",
      "language": "python",
      "name": "python3"
    },
    "language_info": {
      "codemirror_mode": {
        "name": "ipython",
        "version": 3
      },
      "file_extension": ".py",
      "mimetype": "text/x-python",
      "name": "python",
      "nbconvert_exporter": "python",
      "pygments_lexer": "ipython3",
      "version": "3.9.12"
    }
  },
  "nbformat": 4,
  "nbformat_minor": 0
}